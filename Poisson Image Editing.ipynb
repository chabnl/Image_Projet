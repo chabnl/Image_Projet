{
 "cells": [
  {
   "cell_type": "markdown",
   "id": "68ece4cc",
   "metadata": {},
   "source": [
    "# Poisson Image Editing\n",
    "Patrick Pérez, Michel Gangnet, Andrew Blake"
   ]
  },
  {
   "cell_type": "markdown",
   "id": "8a880f8c",
   "metadata": {},
   "source": [
    "Les noms"
   ]
  },
  {
   "cell_type": "markdown",
   "id": "5acde799",
   "metadata": {},
   "source": [
    "### Imports"
   ]
  },
  {
   "cell_type": "code",
   "execution_count": null,
   "id": "2609127d",
   "metadata": {},
   "outputs": [],
   "source": [
    "import numpy as np\n",
    "import scipy as scp\n",
    "import pylab as pyl\n",
    "import pywt\n",
    "import pandas as pd\n",
    "import holoviews as hv\n",
    "import param\n",
    "import panel as pn\n",
    "import matplotlib.pyplot as plt\n",
    "from panel.pane import LaTeX\n",
    "import requests\n",
    "hv.extension('bokeh')\n",
    "import warnings\n",
    "warnings.filterwarnings('ignore')\n",
    "from PIL import Image\n",
    "from io import BytesIO"
   ]
  },
  {
   "cell_type": "markdown",
   "id": "26e93da1",
   "metadata": {},
   "source": [
    "### Chargement des images"
   ]
  },
  {
   "cell_type": "code",
   "execution_count": null,
   "id": "f7ec40b8",
   "metadata": {},
   "outputs": [],
   "source": [
    "caselist=['Ours','Femme piscine','Homme piscine']"
   ]
  },
  {
   "cell_type": "code",
   "execution_count": null,
   "id": "577a8e1a",
   "metadata": {},
   "outputs": [],
   "source": [
    "local=1\n",
    "def chargeData(name):\n",
    "    if local:\n",
    "        if name=='Ours':\n",
    "            target=Image.open(\"./data/target_ocean.jpg\")\n",
    "            source=Image.open(\"./data/source_ours.jpg\")\n",
    "            mask2=Image.open(\"./data/mask_ours.png\")\n",
    "            \n",
    "        if name=='Femme piscine':\n",
    "            target=Image.open(\"./data/target_ocean.jpg\")\n",
    "            source=Image.open(\"./data/source_femme_piscine.jpg\")\n",
    "            mask2=Image.open(\"./data/mask_femme_piscine.jpg\")\n",
    "            \n",
    "        if name=='Homme piscine':\n",
    "            target=Image.open(\"./data/target_ocean2.jpg\")\n",
    "            source=Image.open(\"./data/source_homme_piscine.jpg\")\n",
    "            mask2=Image.open(\"./data/mask_homme_piscine.jpg\")\n",
    "     \n",
    "        source = source.resize(np.shape(target)[:2][::-1])\n",
    "        mask2 = mask2.resize(np.shape(target)[:2][::-1])\n",
    "            \n",
    "        target = np.array(target).astype(float)\n",
    "        source = np.array(source).astype(float)\n",
    "        mask2 = np.array(mask2).astype(float)/255\n",
    "    return target,source,mask2"
   ]
  },
  {
   "cell_type": "code",
   "execution_count": null,
   "id": "7ba33c8b",
   "metadata": {
    "scrolled": true
   },
   "outputs": [],
   "source": [
    "target,source,mask2=chargeData('Homme piscine')\n",
    "\n",
    "\n",
    "\n",
    "optionsRGB=dict(width=300,height=300,xaxis=None,yaxis=None,toolbar=None)\n",
    "optionsGray=dict(cmap='gray',width=300,height=300,xaxis=None,yaxis=None,toolbar=None)\n",
    "pn.Row(hv.RGB(target.astype('uint8')).opts(**optionsRGB),hv.RGB(source.astype('uint8')).opts(**optionsRGB),hv.Image((mask2*255).astype('uint8')).opts(**optionsGray))"
   ]
  },
  {
   "cell_type": "markdown",
   "id": "22307697",
   "metadata": {},
   "source": [
    "### Calcul des gradients"
   ]
  },
  {
   "cell_type": "code",
   "execution_count": null,
   "id": "4b2956f6",
   "metadata": {},
   "outputs": [],
   "source": [
    "def GradientHor(x):\n",
    "    y=x-np.roll(x,1,axis=1)\n",
    "    y[:,0]=0\n",
    "    return y\n",
    "def GradientVer(x):\n",
    "    y=x-np.roll(x,1,axis=0)\n",
    "    y[0,:]=0\n",
    "    return y\n",
    "def DivHor(x):\n",
    "    N=len(x[0])\n",
    "    y=x-np.roll(x,-1,axis=1)\n",
    "    y[:,0]=-x[:,1]\n",
    "    y[:,N-1]=x[:,N-1]\n",
    "    return y\n",
    "def DivVer(x):\n",
    "    N=len(x)\n",
    "    y=x-np.roll(x,-1,axis=0)\n",
    "    y[0,:]=-x[1,:]\n",
    "    y[N-1,:]=x[N-1,:]\n",
    "    return y\n",
    "def Gradient(x):\n",
    "    y=[]\n",
    "    y.append(GradientHor(x))\n",
    "    y.append(GradientVer(x))\n",
    "    return y\n",
    "def Div(y):\n",
    "    x=DivHor(y[0])+DivVer(y[1])\n",
    "    return x"
   ]
  },
  {
   "cell_type": "markdown",
   "id": "81e86ca3",
   "metadata": {},
   "source": [
    "### Gradient et projection"
   ]
  },
  {
   "cell_type": "code",
   "execution_count": null,
   "id": "3b6d4788",
   "metadata": {},
   "outputs": [],
   "source": [
    "def Proj(im,ma,iref):\n",
    "    #si x y pas dans le masque\n",
    "    #si appartient au masque, pas de contrainte, u(x,y)\n",
    "    res = im*ma + iref*(1-ma)\n",
    "    \n",
    "    return res\n",
    "\n",
    "def GradientFonc(x,y):\n",
    "    #Gradient de la fonctionnelle\n",
    "    #Gradient de la fonction pas evident du tout lol ijbol mdr\n",
    "    #f(x) = 1/2 y = grad S et A = grad ||Ax-y|| // (grad x - grad s)\n",
    "    #gradf(x) = AT (Ax-y) \n",
    "    \n",
    "    g = Gradient(x)\n",
    "    r1 = g[0]-y[0]\n",
    "    r2 = g[1]-y[1]\n",
    "    \n",
    "    res = DivHor(r1)+DivVer(r2)\n",
    "    \n",
    "    return res"
   ]
  },
  {
   "cell_type": "markdown",
   "id": "1554ed43",
   "metadata": {},
   "source": [
    "### Naive fusion with a simple projection"
   ]
  },
  {
   "cell_type": "code",
   "execution_count": null,
   "id": "ec4937d1",
   "metadata": {},
   "outputs": [],
   "source": [
    "proj = Proj(source[:,:,0],mask2[:,:,0],target[:,:,0])\n",
    "grad = GradientFonc(target[:,:,0],Gradient(source[:,:,0]))\n",
    "\n",
    "hv.Image((proj).astype('uint8')).opts(**optionsGray)"
   ]
  },
  {
   "cell_type": "code",
   "execution_count": null,
   "id": "098b112f",
   "metadata": {},
   "outputs": [],
   "source": [
    "# Divide into 3 channels\n",
    "\n",
    "target0=target[:,:,0]\n",
    "source0=source[:,:,0]\n",
    "target1=target[:,:,1]\n",
    "source1=source[:,:,1]\n",
    "target2=target[:,:,2]\n",
    "source2=source[:,:,2]"
   ]
  },
  {
   "cell_type": "code",
   "execution_count": null,
   "id": "d2e3cd74",
   "metadata": {},
   "outputs": [],
   "source": [
    "# Fusion\n",
    "\n",
    "projRGB = np.zeros((np.shape(target)))\n",
    "projRGB[:,:,0]= Proj(source0,mask2[:,:,0],target0)\n",
    "projRGB[:,:,1]= Proj(source1,mask2[:,:,0],target1)\n",
    "projRGB[:,:,2]= Proj(source2,mask2[:,:,0],target2)\n",
    "\n",
    "hv.RGB((projRGB).astype('uint8')).opts(**optionsRGB)"
   ]
  },
  {
   "cell_type": "markdown",
   "id": "a92395dd",
   "metadata": {},
   "source": [
    "### Forward Backward Poisson (à changer !!!!!)"
   ]
  },
  {
   "cell_type": "markdown",
   "id": "ab3bc1b2",
   "metadata": {},
   "source": [
    "Computes the projected gradient on a grayscale image (single color chanel). The function returns the last iterate of the sequence and a curve of the values of iterates."
   ]
  },
  {
   "cell_type": "code",
   "execution_count": null,
   "id": "ceba0812",
   "metadata": {},
   "outputs": [],
   "source": [
    "def FBPoissonEditing2(targ,sour,ma,step,Niter):\n",
    "    \n",
    "    f = []\n",
    "    GradS = Gradient(sour)\n",
    "    x = targ\n",
    "    \n",
    "    for i in range(Niter):\n",
    "        \n",
    "        x = Proj(x-step*GradientFonc(x,GradS),ma,targ)\n",
    "        \n",
    "        g = Gradient(x)\n",
    "    \n",
    "        cout = (np.linalg.norm(g[0]-GradS[0],ord='fro') + np.linalg.norm(g[1]-GradS[1],ord='fro'))/2# /!\\ norme 2 matrice Forb\n",
    "        f.append(cout)\n",
    "        \n",
    "    return np.clip(x,0,255),f[10:]"
   ]
  },
  {
   "cell_type": "code",
   "execution_count": null,
   "id": "60190c85",
   "metadata": {},
   "outputs": [],
   "source": [
    "step=1/4\n",
    "niter=265\n",
    "res0,f0=FBPoissonEditing2(target0,source0,mask2[:,:,0],step,niter)\n",
    "res1,f1=FBPoissonEditing2(target1,source1,mask2[:,:,0],step,niter)\n",
    "res2,f2=FBPoissonEditing2(target2,source2,mask2[:,:,0],step,niter)\n",
    "res=target.copy()\n",
    "res[:,:,0]=res0\n",
    "res[:,:,1]=res1\n",
    "res[:,:,2]=res2\n",
    "\n",
    "hv.RGB(res.astype('uint8')).opts(**optionsRGB)"
   ]
  },
  {
   "cell_type": "code",
   "execution_count": null,
   "id": "2b405388",
   "metadata": {},
   "outputs": [],
   "source": [
    "hv.Curve(f0+f1+f2).opts(xaxis=None,toolbar=None)"
   ]
  }
 ],
 "metadata": {
  "kernelspec": {
   "display_name": "Python 3 (ipykernel)",
   "language": "python",
   "name": "python3"
  },
  "language_info": {
   "codemirror_mode": {
    "name": "ipython",
    "version": 3
   },
   "file_extension": ".py",
   "mimetype": "text/x-python",
   "name": "python",
   "nbconvert_exporter": "python",
   "pygments_lexer": "ipython3",
   "version": "3.11.3"
  }
 },
 "nbformat": 4,
 "nbformat_minor": 5
}
